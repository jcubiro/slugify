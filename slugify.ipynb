{
 "cells": [
  {
   "cell_type": "code",
   "execution_count": 237,
   "metadata": {},
   "outputs": [
    {
     "name": "stdout",
     "output_type": "stream",
     "text": [
      "caramba-lo-nonas-que-es-herminia\n"
     ]
    }
   ],
   "source": [
    "import pandas as pd\n",
    "import numpy as np\n",
    "\n",
    "\n",
    "str1=\"Caracoles con patatas receta\"\n",
    "str2=\"caramba lo ñoñas que es hermínia \"\n",
    "\n",
    "characters={\"a\":[\"à\",\"á\",\"ä\"],\"e\":[\"è\",\"é\",\"ë\"],\"i\":[\"ì\",\"í\",\"ï\"],\"o\":[\"ò\",\"ó\",\"ö\"],\"u\":[\"ù\",\"ú\",\"ü\"],\"n\":\"ñ\"}\n",
    "\n",
    "def replacer(letter):\n",
    "        for key,value in characters.items():\n",
    "                if letter in value:\n",
    "                    return key\n",
    "        return letter\n",
    "\n",
    "def slugify(texto):\n",
    "    sinespacios=texto.strip()\n",
    "    listilla=list(sinespacios)\n",
    "    listilla=list(map(replacer,listilla))\n",
    "    hh=''.join(listilla)\n",
    "    hh=hh.replace(\" \",\"-\")\n",
    "    print(hh)\n",
    "slugify(str2)"
   ]
  }
 ],
 "metadata": {
  "kernelspec": {
   "display_name": "Python 3",
   "language": "python",
   "name": "python3"
  },
  "language_info": {
   "codemirror_mode": {
    "name": "ipython",
    "version": 3
   },
   "file_extension": ".py",
   "mimetype": "text/x-python",
   "name": "python",
   "nbconvert_exporter": "python",
   "pygments_lexer": "ipython3",
   "version": "3.7.6"
  }
 },
 "nbformat": 4,
 "nbformat_minor": 4
}